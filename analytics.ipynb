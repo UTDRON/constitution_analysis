{
 "cells": [
  {
   "cell_type": "code",
   "execution_count": 13,
   "id": "04ab0ca8-782b-4794-a765-c1f9aa70f932",
   "metadata": {},
   "outputs": [],
   "source": [
    "import os\n",
    "import json\n",
    "import pdfplumber\n",
    "from sentence_transformers import SentenceTransformer\n",
    "import numpy as np\n",
    "from sklearn.cluster import KMeans\n",
    "from sklearn.decomposition import PCA\n",
    "import matplotlib.pyplot as plt\n",
    "from sklearn.neighbors import NearestNeighbors\n",
    "import pickle"
   ]
  },
  {
   "cell_type": "raw",
   "id": "c30e4085-aa2c-40fd-b2b6-331497692290",
   "metadata": {
    "scrolled": true
   },
   "source": [
    "# Step 1: Load PDFs and extract text\n",
    "folder = \"constitutions_pdfs\"\n",
    "documents = {}\n",
    "for filename in os.listdir(folder):\n",
    "    if filename.endswith(\".pdf\"):\n",
    "        print(f\"Finished {filename}\")\n",
    "        path = os.path.join(folder, filename)\n",
    "        with pdfplumber.open(path) as pdf:\n",
    "            text = \"\\n\".join([page.extract_text() or \"\" for page in pdf.pages])\n",
    "        documents[filename] = text"
   ]
  },
  {
   "cell_type": "raw",
   "id": "9660a27b-91c0-4f13-b811-dd6a33d09d28",
   "metadata": {},
   "source": [
    "# Step 2: Save all documents to JSON\n",
    "OUTPUT_JSON = \"documents.json\"\n",
    "with open(OUTPUT_JSON, \"w\", encoding=\"utf-8\") as f:\n",
    "    json.dump(documents, f, ensure_ascii=False, indent=2)\n",
    "\n",
    "print(f\"Saved {len(documents)} documents to {OUTPUT_JSON}\")"
   ]
  },
  {
   "cell_type": "code",
   "execution_count": 83,
   "id": "eb12175c-07b5-41f4-9127-3ac441b89f4d",
   "metadata": {},
   "outputs": [],
   "source": [
    "# Step 3: Load documents from saved json file and Chunk documents\n",
    "with open(OUTPUT_JSON, \"r\", encoding=\"utf-8\") as f:\n",
    "    documents = json.load(f)\n",
    "    \n",
    "def chunk_text(text, chunk_size=1000, overlap=200):\n",
    "    words = text.split()\n",
    "    chunks = []\n",
    "    for i in range(0, len(words), chunk_size - overlap):\n",
    "        chunk = \" \".join(words[i:i+chunk_size])\n",
    "        chunks.append(chunk)\n",
    "    return chunks\n",
    "\n",
    "doc_chunks = {}\n",
    "for doc_name, text in documents.items():\n",
    "    doc_chunks[doc_name] = chunk_text(text)\n"
   ]
  },
  {
   "cell_type": "code",
   "execution_count": 84,
   "id": "91e26f81-459f-4b20-8ef9-0deb86168e5f",
   "metadata": {},
   "outputs": [
    {
     "name": "stdout",
     "output_type": "stream",
     "text": [
      "Total chunks to embed: 7454\n"
     ]
    },
    {
     "data": {
      "application/vnd.jupyter.widget-view+json": {
       "model_id": "a7afd6fc00764e8d94686f4acec061cf",
       "version_major": 2,
       "version_minor": 0
      },
      "text/plain": [
       "Batches:   0%|          | 0/233 [00:00<?, ?it/s]"
      ]
     },
     "metadata": {},
     "output_type": "display_data"
    }
   ],
   "source": [
    "# Step 4: Generate embeddings for all chunks\n",
    "model = SentenceTransformer(\"all-mpnet-base-v2\")\n",
    "\n",
    "all_chunks = []\n",
    "chunk_map = []  # Keep track of which chunk belongs to which doc\n",
    "for doc_name, chunks in doc_chunks.items():\n",
    "    all_chunks.extend(chunks)\n",
    "    chunk_map.extend([doc_name] * len(chunks))\n",
    "\n",
    "print(f\"Total chunks to embed: {len(all_chunks)}\")\n",
    "embeddings_chunks = model.encode(all_chunks, show_progress_bar=True)\n"
   ]
  },
  {
   "cell_type": "code",
   "execution_count": 85,
   "id": "b58380b0-8a75-483b-8781-fea406659a31",
   "metadata": {},
   "outputs": [],
   "source": [
    "# Step 5: Aggregate embeddings per document (mean of chunks)\n",
    "doc_embeddings = {}\n",
    "for doc_name in doc_chunks.keys():\n",
    "    indices = [i for i, d in enumerate(chunk_map) if d == doc_name]\n",
    "    doc_embeddings[doc_name] = np.mean(embeddings_chunks[indices], axis=0)"
   ]
  },
  {
   "cell_type": "code",
   "execution_count": 86,
   "id": "0942e239-ed51-4955-ab04-0c6943c231fa",
   "metadata": {},
   "outputs": [],
   "source": [
    "# Step 5: Save aggregated embeddings and doc names\n",
    "EMBEDDINGS_FILE = \"doc_embeddings.npy\"\n",
    "DOCNAMES_FILE = \"doc_names.pkl\"\n",
    "\n",
    "np.save(EMBEDDINGS_FILE, np.array(list(doc_embeddings.values())))\n",
    "with open(DOCNAMES_FILE, \"wb\") as f:\n",
    "    pickle.dump(list(doc_embeddings.keys()), f)\n"
   ]
  },
  {
   "cell_type": "code",
   "execution_count": 87,
   "id": "25fdc517-ffbc-4113-b43c-97327f1d864a",
   "metadata": {},
   "outputs": [],
   "source": [
    "# Step 6: Load embeddings for nearest neighbor search fromn persisted files\n",
    "embeddings = np.load(EMBEDDINGS_FILE)\n",
    "with open(DOCNAMES_FILE, \"rb\") as f:\n",
    "    doc_names = pickle.load(f)"
   ]
  },
  {
   "cell_type": "raw",
   "id": "347a838f-ea47-4da3-9d38-7f4c8425a189",
   "metadata": {},
   "source": [
    "# Step 7: Cluster\n",
    "n_clusters = 10\n",
    "kmeans = KMeans(n_clusters=n_clusters, random_state=42)\n",
    "labels = kmeans.fit_predict(embeddings)"
   ]
  },
  {
   "cell_type": "raw",
   "id": "22145b97-229f-474b-917c-14baf5b27bb2",
   "metadata": {},
   "source": [
    "# Step 8: Reduce dimension for visualization\n",
    "pca = PCA(n_components=2)\n",
    "reduced = pca.fit_transform(embeddings)"
   ]
  },
  {
   "cell_type": "raw",
   "id": "6845916e-a438-45aa-8155-0d3d907f5155",
   "metadata": {},
   "source": [
    "# Step 9: Plot\n",
    "plt.figure(figsize=(15, 14))\n",
    "plt.scatter(reduced[:, 0], reduced[:, 1], c=labels, cmap=\"tab10\", s=50)\n",
    "for i, filename in enumerate(documents.keys()):\n",
    "    plt.text(reduced[i, 0], reduced[i, 1], filename.split(\"_\")[0], fontsize=8)\n",
    "plt.title(\"Clusters of Constitutions\")\n",
    "plt.show()"
   ]
  },
  {
   "cell_type": "code",
   "execution_count": 88,
   "id": "a4086599-a548-4569-8617-a360cb600480",
   "metadata": {},
   "outputs": [
    {
     "data": {
      "text/html": [
       "<style>#sk-container-id-7 {color: black;background-color: white;}#sk-container-id-7 pre{padding: 0;}#sk-container-id-7 div.sk-toggleable {background-color: white;}#sk-container-id-7 label.sk-toggleable__label {cursor: pointer;display: block;width: 100%;margin-bottom: 0;padding: 0.3em;box-sizing: border-box;text-align: center;}#sk-container-id-7 label.sk-toggleable__label-arrow:before {content: \"▸\";float: left;margin-right: 0.25em;color: #696969;}#sk-container-id-7 label.sk-toggleable__label-arrow:hover:before {color: black;}#sk-container-id-7 div.sk-estimator:hover label.sk-toggleable__label-arrow:before {color: black;}#sk-container-id-7 div.sk-toggleable__content {max-height: 0;max-width: 0;overflow: hidden;text-align: left;background-color: #f0f8ff;}#sk-container-id-7 div.sk-toggleable__content pre {margin: 0.2em;color: black;border-radius: 0.25em;background-color: #f0f8ff;}#sk-container-id-7 input.sk-toggleable__control:checked~div.sk-toggleable__content {max-height: 200px;max-width: 100%;overflow: auto;}#sk-container-id-7 input.sk-toggleable__control:checked~label.sk-toggleable__label-arrow:before {content: \"▾\";}#sk-container-id-7 div.sk-estimator input.sk-toggleable__control:checked~label.sk-toggleable__label {background-color: #d4ebff;}#sk-container-id-7 div.sk-label input.sk-toggleable__control:checked~label.sk-toggleable__label {background-color: #d4ebff;}#sk-container-id-7 input.sk-hidden--visually {border: 0;clip: rect(1px 1px 1px 1px);clip: rect(1px, 1px, 1px, 1px);height: 1px;margin: -1px;overflow: hidden;padding: 0;position: absolute;width: 1px;}#sk-container-id-7 div.sk-estimator {font-family: monospace;background-color: #f0f8ff;border: 1px dotted black;border-radius: 0.25em;box-sizing: border-box;margin-bottom: 0.5em;}#sk-container-id-7 div.sk-estimator:hover {background-color: #d4ebff;}#sk-container-id-7 div.sk-parallel-item::after {content: \"\";width: 100%;border-bottom: 1px solid gray;flex-grow: 1;}#sk-container-id-7 div.sk-label:hover label.sk-toggleable__label {background-color: #d4ebff;}#sk-container-id-7 div.sk-serial::before {content: \"\";position: absolute;border-left: 1px solid gray;box-sizing: border-box;top: 0;bottom: 0;left: 50%;z-index: 0;}#sk-container-id-7 div.sk-serial {display: flex;flex-direction: column;align-items: center;background-color: white;padding-right: 0.2em;padding-left: 0.2em;position: relative;}#sk-container-id-7 div.sk-item {position: relative;z-index: 1;}#sk-container-id-7 div.sk-parallel {display: flex;align-items: stretch;justify-content: center;background-color: white;position: relative;}#sk-container-id-7 div.sk-item::before, #sk-container-id-7 div.sk-parallel-item::before {content: \"\";position: absolute;border-left: 1px solid gray;box-sizing: border-box;top: 0;bottom: 0;left: 50%;z-index: -1;}#sk-container-id-7 div.sk-parallel-item {display: flex;flex-direction: column;z-index: 1;position: relative;background-color: white;}#sk-container-id-7 div.sk-parallel-item:first-child::after {align-self: flex-end;width: 50%;}#sk-container-id-7 div.sk-parallel-item:last-child::after {align-self: flex-start;width: 50%;}#sk-container-id-7 div.sk-parallel-item:only-child::after {width: 0;}#sk-container-id-7 div.sk-dashed-wrapped {border: 1px dashed gray;margin: 0 0.4em 0.5em 0.4em;box-sizing: border-box;padding-bottom: 0.4em;background-color: white;}#sk-container-id-7 div.sk-label label {font-family: monospace;font-weight: bold;display: inline-block;line-height: 1.2em;}#sk-container-id-7 div.sk-label-container {text-align: center;}#sk-container-id-7 div.sk-container {/* jupyter's `normalize.less` sets `[hidden] { display: none; }` but bootstrap.min.css set `[hidden] { display: none !important; }` so we also need the `!important` here to be able to override the default hidden behavior on the sphinx rendered scikit-learn.org. See: https://github.com/scikit-learn/scikit-learn/issues/21755 */display: inline-block !important;position: relative;}#sk-container-id-7 div.sk-text-repr-fallback {display: none;}</style><div id=\"sk-container-id-7\" class=\"sk-top-container\"><div class=\"sk-text-repr-fallback\"><pre>NearestNeighbors(metric=&#x27;cosine&#x27;, n_neighbors=11)</pre><b>In a Jupyter environment, please rerun this cell to show the HTML representation or trust the notebook. <br />On GitHub, the HTML representation is unable to render, please try loading this page with nbviewer.org.</b></div><div class=\"sk-container\" hidden><div class=\"sk-item\"><div class=\"sk-estimator sk-toggleable\"><input class=\"sk-toggleable__control sk-hidden--visually\" id=\"sk-estimator-id-7\" type=\"checkbox\" checked><label for=\"sk-estimator-id-7\" class=\"sk-toggleable__label sk-toggleable__label-arrow\">NearestNeighbors</label><div class=\"sk-toggleable__content\"><pre>NearestNeighbors(metric=&#x27;cosine&#x27;, n_neighbors=11)</pre></div></div></div></div></div>"
      ],
      "text/plain": [
       "NearestNeighbors(metric='cosine', n_neighbors=11)"
      ]
     },
     "execution_count": 88,
     "metadata": {},
     "output_type": "execute_result"
    }
   ],
   "source": [
    "# Step 10: Nearest Neighbor Search\n",
    "nn = NearestNeighbors(n_neighbors=11, metric=\"cosine\")\n",
    "nn.fit(embeddings)"
   ]
  },
  {
   "cell_type": "code",
   "execution_count": 89,
   "id": "339bc09e-74e4-4b43-978b-f67eee23eaa9",
   "metadata": {},
   "outputs": [
    {
     "name": "stdout",
     "output_type": "stream",
     "text": [
      "\n",
      "Top 10 similar to: Nepal_2016.pdf\n",
      "1. Bhutan_2008.pdf (similarity = 0.828)\n",
      "2. Thailand_2017.pdf (similarity = 0.816)\n",
      "3. Bangladesh_2014.pdf (similarity = 0.815)\n",
      "4. India_2016.pdf (similarity = 0.814)\n",
      "5. Swaziland_2005.pdf (similarity = 0.808)\n",
      "6. Afghanistan_2004.pdf (similarity = 0.800)\n",
      "7. Pakistan_2018.pdf (similarity = 0.800)\n",
      "8. Cambodia_2008.pdf (similarity = 0.774)\n",
      "9. Myanmar_2015.pdf (similarity = 0.773)\n",
      "10. Kenya_2010.pdf (similarity = 0.767)\n"
     ]
    }
   ],
   "source": [
    "def find_similar(doc_index, top_k=10):\n",
    "    distances, indices = nn.kneighbors([embeddings[doc_index]], n_neighbors=top_k+1)\n",
    "    print(f\"\\nTop {top_k} similar to: {doc_names[doc_index]}\")\n",
    "    for rank, (i, dist) in enumerate(zip(indices[0][1:], distances[0][1:]), start=1):\n",
    "        print(f\"{rank}. {doc_names[i]} (similarity = {1 - dist:.3f})\")\n",
    "\n",
    "# Example: find top-10 similar to the first constitution\n",
    "# find_similar(0, top_k=10)\n",
    "find_similar(doc_names.index('Nepal_2016.pdf'), top_k=10)"
   ]
  },
  {
   "cell_type": "code",
   "execution_count": 82,
   "id": "8b918743-55c5-4366-b958-2b3891107641",
   "metadata": {},
   "outputs": [
    {
     "name": "stdout",
     "output_type": "stream",
     "text": [
      "\n",
      "Top 10 similar to: United_Kingdom_2013.pdf\n",
      "1. New_Zealand_2014.pdf (similarity = 0.800)\n",
      "2. Ireland_2019.pdf (similarity = 0.773)\n",
      "3. St_Vincent_and_the_Grenadines_1979.pdf (similarity = 0.771)\n",
      "4. Antigua_and_Barbuda_1981.pdf (similarity = 0.770)\n",
      "5. Swaziland_2005.pdf (similarity = 0.749)\n",
      "6. St_Lucia_1978.pdf (similarity = 0.748)\n",
      "7. Barbados_2007.pdf (similarity = 0.732)\n",
      "8. Tuvalu_2010.pdf (similarity = 0.731)\n",
      "9. Solomon_Islands_2018.pdf (similarity = 0.730)\n",
      "10. Sri_Lanka_2015.pdf (similarity = 0.727)\n"
     ]
    }
   ],
   "source": [
    "find_similar(doc_names.index('United_Kingdom_2013.pdf'), top_k=10)"
   ]
  },
  {
   "cell_type": "code",
   "execution_count": 76,
   "id": "eae4cbdc-ee2a-46bc-8ed6-9797a16bd282",
   "metadata": {},
   "outputs": [
    {
     "name": "stdout",
     "output_type": "stream",
     "text": [
      "\n",
      "Top 10 similar to: United_States_of_America_1992.pdf\n",
      "1. Liberia_1986.pdf (similarity = 0.684)\n",
      "2. Mexico_2015.pdf (similarity = 0.676)\n",
      "3. Philippines_1987.pdf (similarity = 0.675)\n",
      "4. Argentina_1994.pdf (similarity = 0.674)\n",
      "5. Palau_1992.pdf (similarity = 0.672)\n",
      "6. Micronesia_1990.pdf (similarity = 0.660)\n",
      "7. Lebanon_2004.pdf (similarity = 0.657)\n",
      "8. France_2008.pdf (similarity = 0.642)\n",
      "9. Afghanistan_2004.pdf (similarity = 0.642)\n",
      "10. Ireland_2019.pdf (similarity = 0.641)\n"
     ]
    }
   ],
   "source": [
    "find_similar(doc_names.index('United_States_of_America_1992.pdf'), top_k=10)"
   ]
  },
  {
   "cell_type": "code",
   "execution_count": 73,
   "id": "edfb376d-d0fe-4e18-8152-b6e59c5d44c4",
   "metadata": {},
   "outputs": [
    {
     "name": "stdout",
     "output_type": "stream",
     "text": [
      "Lowest 10 counts:\n",
      "St_Kitts_and_Nevis_1983.pdf 20697\n",
      "Libya_2012.pdf 35905\n",
      "Papua_New_Guinea_2016.pdf 39520\n",
      "Monaco_2002.pdf 49448\n",
      "Iceland_2013.pdf 50733\n",
      "Bosnia_Herzegovina_2009.pdf 52864\n",
      "Denmark_1953.pdf 54283\n",
      "Lebanon_2004.pdf 54885\n",
      "Micronesia_1990.pdf 57397\n",
      "Japan_1946.pdf 57669\n",
      "Saudi_Arabia_2013.pdf 61987\n",
      "Latvia_2016.pdf 62249\n",
      "Indonesia_2002.pdf 62399\n",
      "United_States_of_America_1992.pdf 65052\n",
      "Eritrea_1997.pdf 65431\n",
      "Comoros_2018.pdf 65713\n",
      "Qatar_2003.pdf 65753\n",
      "Djibouti_2010.pdf 66336\n",
      "Chile_2023D.pdf 66370\n",
      "Luxembourg_2009.pdf 66585\n",
      "\n",
      "Highest 10 counts:\n",
      "United_Kingdom_2013.pdf 2084088\n",
      "New_Zealand_2014.pdf 1179380\n",
      "India_2016.pdf 685164\n",
      "Brazil_2017.pdf 529413\n",
      "Mexico_2015.pdf 456016\n",
      "Sri_Lanka_2015.pdf 444506\n",
      "Malaysia_2007.pdf 443072\n",
      "Nigeria_2011.pdf 441031\n",
      "Ecuador_2021.pdf 427333\n",
      "Gambia_2020D.pdf 421134\n",
      "Zimbabwe_2017.pdf 402986\n",
      "Chile_2022D.pdf 401534\n",
      "Colombia_2015.pdf 398657\n",
      "Gambia_2019D.pdf 396909\n",
      "Nepal_2016.pdf 396786\n",
      "Sweden_2012.pdf 394452\n",
      "Pakistan_2018.pdf 392951\n",
      "Ghana_1996.pdf 377188\n",
      "Chile_2023DD.pdf 376555\n",
      "Uganda_2017.pdf 367580\n"
     ]
    }
   ],
   "source": [
    "char_counts = {key: len(value) for key, value in documents.items()}\n",
    "sorted_counts = sorted(char_counts.items(), key=lambda x: x[1])\n",
    "\n",
    "# Step 11: Get top 10 lowest and highest\n",
    "lowest_10 = sorted_counts[:20]\n",
    "highest_10 = sorted_counts[-20:]  # last 10 items\n",
    "\n",
    "print(\"Lowest 10 counts:\")\n",
    "for k, v in lowest_10:\n",
    "    print(k, v)\n",
    "\n",
    "print(\"\\nHighest 10 counts:\")\n",
    "for k, v in reversed(highest_10):  # reverse to get descending order\n",
    "    print(k, v)"
   ]
  },
  {
   "cell_type": "code",
   "execution_count": 74,
   "id": "7de2d79f-61b5-4d56-aba6-2744bb396683",
   "metadata": {},
   "outputs": [
    {
     "data": {
      "image/png": "[encoded data removed]",
      "text/plain": [
       "<Figure size 1000x600 with 1 Axes>"
      ]
     },
     "metadata": {},
     "output_type": "display_data"
    }
   ],
   "source": [
    "counts = list(char_counts.values())\n",
    "\n",
    "# Step 12: Plot for step 11\n",
    "min_count = min(counts)\n",
    "max_count = max(counts)\n",
    "bins = np.linspace(min_count, max_count, 11)  # 10 bins\n",
    "\n",
    "# Plot histogram\n",
    "plt.figure(figsize=(10,6))\n",
    "plt.hist(counts, bins=bins, edgecolor='black')\n",
    "\n",
    "plt.xlabel(\"Number of Characters\")\n",
    "plt.ylabel(\"Number of Countries\")\n",
    "plt.title(\"Distribution of Number of Characters per Country Document\")\n",
    "plt.xticks(bins, rotation=45)\n",
    "plt.tight_layout()\n",
    "plt.show()"
   ]
  },
  {
   "cell_type": "code",
   "execution_count": null,
   "id": "ed9e3900-4f5e-4e0d-949f-1bedf0c8052b",
   "metadata": {},
   "outputs": [],
   "source": []
  }
 ],
 "metadata": {
  "kernelspec": {
   "display_name": "Python 3 (ipykernel)",
   "language": "python",
   "name": "python3"
  },
  "language_info": {
   "codemirror_mode": {
    "name": "ipython",
    "version": 3
   },
   "file_extension": ".py",
   "mimetype": "text/x-python",
   "name": "python",
   "nbconvert_exporter": "python",
   "pygments_lexer": "ipython3",
   "version": "3.11.0"
  }
 },
 "nbformat": 4,
 "nbformat_minor": 5
}
